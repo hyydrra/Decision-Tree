{
  "nbformat": 4,
  "nbformat_minor": 0,
  "metadata": {
    "colab": {
      "name": "IS_hw2_tree.ipynb",
      "provenance": [],
      "collapsed_sections": [],
      "include_colab_link": true
    },
    "kernelspec": {
      "name": "python3",
      "display_name": "Python 3"
    }
  },
  "cells": [
    {
      "cell_type": "markdown",
      "metadata": {
        "id": "view-in-github",
        "colab_type": "text"
      },
      "source": [
        "<a href=\"https://colab.research.google.com/github/hyydrra/Decision-Tree/blob/master/IS_hw2_tree.ipynb\" target=\"_parent\"><img src=\"https://colab.research.google.com/assets/colab-badge.svg\" alt=\"Open In Colab\"/></a>"
      ]
    },
    {
      "cell_type": "code",
      "metadata": {
        "id": "3tLfSLpA1Uov",
        "colab_type": "code",
        "colab": {}
      },
      "source": [
        "import numpy as np\n",
        "import pandas as pd\n",
        "import collections\n",
        "import random"
      ],
      "execution_count": null,
      "outputs": []
    },
    {
      "cell_type": "code",
      "metadata": {
        "id": "pPNiXulppA6s",
        "colab_type": "code",
        "colab": {}
      },
      "source": [
        "\n",
        "  import numpy as np\n",
        "  def entt(yp,yn,x1p,x1n,x2p,x2n  )\n",
        "    if y1==0 or y0==0:\n",
        "      parent=0\n",
        "    else:\n",
        "      parent = -((y0/(y1+y0))*np.log2(y0/(y1+y0))) -((y1/(y1+y0))*np.log2(y1/(y1+y0)))\n",
        "\n",
        "    if x11==0 or x10==0:\n",
        "      child1=0\n",
        "    else:\n",
        "      child1 = (-((x11/(x11+x10))*np.log2(x11/(x11+x10))) -((x10/(x11+x10))*np.log2(x10/(x11+x10))))\n",
        "\n",
        "    if x21==0 or x20==0:\n",
        "      child2=0\n",
        "    else:\n",
        "      child2 = (-((x21/(x21+x20))*np.log2(x21/(x21+x20))) -((x20/(x21+x20))*np.log2(x20/(x21+x20))))\n",
        "    ent = parent -(((x11+x10)/(y1+y0))*child1) -(((x21+x20)/(y1+y0))*child2)\n",
        "    return ent "
      ],
      "execution_count": null,
      "outputs": []
    },
    {
      "cell_type": "code",
      "metadata": {
        "id": "8Ejpx5L_1bQA",
        "colab_type": "code",
        "colab": {}
      },
      "source": [
        "data=pd.read_csv('/content/arrhythmia.data.csv')"
      ],
      "execution_count": null,
      "outputs": []
    },
    {
      "cell_type": "code",
      "metadata": {
        "id": "X1N2KpQi2VXL",
        "colab_type": "code",
        "colab": {}
      },
      "source": [
        "price=data.iloc[0,:]\n",
        "del_ind=[]\n",
        "for x in range(data.shape[0]):\n",
        "  for y in range(data.shape[1]):\n",
        "    if data.iloc[x,y]==\"?\":\n",
        "      del_ind.append(x)\n",
        "      break\n",
        "fdata=data.drop(data.index[del_ind])\n",
        "fdata=fdata.reset_index()\n",
        "fdata=fdata.drop(\"index\", axis=1)\n",
        "\n",
        "classes=set()\n",
        "for i in range(fdata.shape[0]):\n",
        "  classes.add(fdata.iloc[i,-1])\n",
        "classes=list(classes)"
      ],
      "execution_count": null,
      "outputs": []
    },
    {
      "cell_type": "code",
      "metadata": {
        "id": "bQoYpkKiAAO4",
        "colab_type": "code",
        "colab": {}
      },
      "source": [
        "discrete=[]\n",
        "continuous=[]\n",
        "for i in range(fdata.shape[1]):\n",
        "  disc=1\n",
        "  for j in range(fdata.shape[0]):\n",
        "    if fdata.iloc[j,i] !=1:\n",
        "      if fdata.iloc[j,i] !=0:\n",
        "        disc=0\n",
        "  if disc==0:\n",
        "    continuous.append(i)\n",
        "  else :\n",
        "    discrete.append(i)\n",
        "discrete\n",
        "continuous.pop(-1)\n",
        "disc_data = fdata.drop(fdata.columns[continuous], axis = 1)\n",
        "continuous_data = fdata.drop(fdata.columns[discrete], axis = 1)"
      ],
      "execution_count": null,
      "outputs": []
    },
    {
      "cell_type": "code",
      "metadata": {
        "id": "cK-aCJpwAhb9",
        "colab_type": "code",
        "colab": {}
      },
      "source": [
        "def counter(attribute):\n",
        "  class1=0\n",
        "  class0=0\n",
        "  for x in attribute:\n",
        "    if x==1:\n",
        "      class1 = class1+1\n",
        "    else:\n",
        "      class0 = class0+1\n",
        "  return class1,class0\n",
        "    \n",
        "def entropy_cont(attribute,ind):\n",
        "  part1 = attribute[0:ind]\n",
        "  part2 = attribute[ind:]\n",
        "  y1,y0 = counter(attribute)\n",
        "  x11,x10 = counter(part1)\n",
        "  x21,x20 = counter(part2)\n",
        "\n",
        "  if y1==0 or y0==0:\n",
        "    parent=0\n",
        "  else:\n",
        "    parent = -((y0/(y1+y0))*np.log2(y0/(y1+y0))) -((y1/(y1+y0))*np.log2(y1/(y1+y0)))\n",
        "\n",
        "  if x11==0 or x10==0:\n",
        "    child1=0\n",
        "  else:\n",
        "    child1 = (-((x11/(x11+x10))*np.log2(x11/(x11+x10))) -((x10/(x11+x10))*np.log2(x10/(x11+x10))))\n",
        "\n",
        "  if x21==0 or x20==0:\n",
        "    child2=0\n",
        "  else:\n",
        "    child2 = (-((x21/(x21+x20))*np.log2(x21/(x21+x20))) -((x20/(x21+x20))*np.log2(x20/(x21+x20))))\n",
        "  entropy = parent -(((x11+x10)/(y1+y0))*child1) -(((x21+x20)/(y1+y0))*child2)\n",
        "  return entropy\n"
      ],
      "execution_count": null,
      "outputs": []
    },
    {
      "cell_type": "code",
      "metadata": {
        "id": "kef-i_9LfTfk",
        "colab_type": "code",
        "colab": {}
      },
      "source": [
        "def maxmin(dataframe,coloumn):\n",
        "  Min=min(list(dataframe.iloc[:,coloumn]))\n",
        "  Max=max(list(dataframe.iloc[:,coloumn]))\n",
        "  return Max,Min\n",
        " \n",
        "def div_points(dataframe,coloumn,num):\n",
        "  points=[]\n",
        "  Max,Min = maxmin(dataframe,coloumn)\n",
        "  l = (Max-Min)/num\n",
        "  for i in range(num+1):\n",
        "    points.append(Min+i*l)\n",
        "  return points"
      ],
      "execution_count": null,
      "outputs": []
    },
    {
      "cell_type": "markdown",
      "metadata": {
        "id": "DEVVWPcTnJTb",
        "colab_type": "text"
      },
      "source": [
        "Brakin_points for continuous data"
      ]
    },
    {
      "cell_type": "code",
      "metadata": {
        "id": "ShEIUs0VVRFa",
        "colab_type": "code",
        "colab": {}
      },
      "source": [
        "points = 2*np.array(list(range(1,33)))\n",
        "break_points={}\n",
        "all_classes=[]\n",
        "for k in range(len(classes)):\n",
        "  c=classes[k]\n",
        "  ps=[]\n",
        "  for a in range(continuous_data.shape[1]):\n",
        "    class1 = list(continuous_data.iloc[:,-1])\n",
        "    for x in range(len(class1)):\n",
        "      if class1[x]!=c:\n",
        "        class1[x]=0\n",
        "      else:\n",
        "        class1[x]=1\n",
        "  \n",
        "\n",
        "    temp=[]\n",
        "    for i in range(continuous_data.shape[0]):\n",
        "      temp.append([])\n",
        "      temp[i].append(float(continuous_data.iloc[i,a]))\n",
        "      temp[i].append(float(class1[i]))\n",
        "    sorted_temp = np.array(sorted(temp,key=lambda l:l[0]))\n",
        "    maxent=0\n",
        "    for p in points:\n",
        "      ent = entropy_cont(sorted_temp[:,1],p)\n",
        "      if ent> maxent:\n",
        "        maxent=ent\n",
        "        maxp=p\n",
        "\n",
        "    val = (sorted_temp[maxp-1,0] + sorted_temp[maxp+1,0])/2\n",
        "    ps.append(val)\n",
        "  break_points[k]=ps\n",
        "  all_classes.append(class1)"
      ],
      "execution_count": null,
      "outputs": []
    },
    {
      "cell_type": "code",
      "metadata": {
        "id": "AkcFQQb2pyfH",
        "colab_type": "code",
        "colab": {
          "base_uri": "https://localhost:8080/",
          "height": 35
        },
        "outputId": "8198db36-55ec-457f-ad8e-cfbc546c29d7"
      },
      "source": [
        "classes"
      ],
      "execution_count": null,
      "outputs": [
        {
          "output_type": "execute_result",
          "data": {
            "text/plain": [
              "[1, 2, 3, 4, 5, 6, 8, 9, 10, 14, 16]"
            ]
          },
          "metadata": {
            "tags": []
          },
          "execution_count": 32
        }
      ]
    },
    {
      "cell_type": "markdown",
      "metadata": {
        "id": "JtKbAIzs86eb",
        "colab_type": "text"
      },
      "source": [
        "Training the tree"
      ]
    },
    {
      "cell_type": "code",
      "metadata": {
        "id": "ElcAnVOi0894",
        "colab_type": "code",
        "colab": {}
      },
      "source": [
        "def counter1(indexes,num_class):\n",
        "  class1=0\n",
        "  class2=0\n",
        "  for x in indexes:\n",
        "    if all_classes[num_class][x]==1:\n",
        "      class1=class1+1\n",
        "    else:\n",
        "      class2=class2+1\n",
        "  return class1,class2\n",
        "\n",
        "def Entropy(nodedata,attri,isdisc,br_point,num_class):\n",
        "  part1=[]\n",
        "  part2=[]\n",
        "  if isdisc:\n",
        "    for i in nodedata:\n",
        "      if float(disc_data.iloc[i,attri])<br_point:\n",
        "        part1.append(i)\n",
        "      else:\n",
        "        part2.append(i)\n",
        "  else:\n",
        "    for i in nodedata:\n",
        "      if float(continuous_data.iloc[i,attri])<br_point:\n",
        "        part1.append(i)\n",
        "      else:\n",
        "        part2.append(i)\n",
        "\n",
        "  y1,y0 = counter1(nodedata,num_class)\n",
        "  x11,x10 = counter1(part1,num_class)\n",
        "  x21,x20 = counter1(part2,num_class)\n",
        "  if y1==0 or y0==0:\n",
        "    parent=0\n",
        "  else:\n",
        "    parent = -((y0/(y1+y0))*np.log2(y0/(y1+y0))) -((y1/(y1+y0))*np.log2(y1/(y1+y0)))\n",
        "\n",
        "  if x11==0 or x10==0:\n",
        "    child1=0\n",
        "  else:\n",
        "    child1 = (-((x11/(x11+x10))*np.log2(x11/(x11+x10))) -((x10/(x11+x10))*np.log2(x10/(x11+x10))))\n",
        "\n",
        "  if x21==0 or x20==0:\n",
        "    child2=0\n",
        "  else:\n",
        "    child2 = (-((x21/(x21+x20))*np.log2(x21/(x21+x20))) -((x20/(x21+x20))*np.log2(x20/(x21+x20))))\n",
        "  ent = parent -(((x11+x10)/(y1+y0))*child1) -(((x21+x20)/(y1+y0))*child2)\n",
        "  return ent \n",
        "\n",
        "def best_attr(data,conti_att,disc_att,num_class):\n",
        "  max1=0\n",
        "  max2=0\n",
        "  if len(disc_att)>0:\n",
        "    for i in disc_att:\n",
        "      ent = Entropy(data,i,1,0.5,num_class)\n",
        "      if max1 <= ent:\n",
        "        max1 = ent\n",
        "        att1=i\n",
        "  if len(conti_att)>0:\n",
        "    for x in conti_att:\n",
        "      ent = Entropy(data,x[0],0,x[1],num_class)\n",
        "      if max2 <= ent:\n",
        "        max2 = ent\n",
        "        att2=x\n",
        "\n",
        "  if max1+max2==0:\n",
        "    return 0,0\n",
        "  else:\n",
        "    if max1>max2:\n",
        "      return \"disc\",att1\n",
        "    else:\n",
        "      return \"conti\",att2\n",
        "  "
      ],
      "execution_count": null,
      "outputs": []
    },
    {
      "cell_type": "code",
      "metadata": {
        "id": "cqnmXHO8aqCC",
        "colab_type": "code",
        "colab": {}
      },
      "source": [
        "# x>br right and x<br left\n",
        "class Node:\n",
        "  def __init__(self, value,num_class):\n",
        "      self.left = None\n",
        "      self.data = value\n",
        "      self.attr = None\n",
        "      self.right = None\n",
        "      self.index = None\n",
        "      self.parent=None\n",
        "      self.br_point=0.5\n",
        "      self.disc_att=None\n",
        "      self.conti_att=None\n",
        "      self.depth=0\n",
        "      self.label=None\n",
        "\n",
        "def decision_tree(train_data,rootdisc_att,rootconti_att,num_class,maxdepth):\n",
        "  root = Node(train_data,num_class)\n",
        "  root.disc_att=rootdisc_att\n",
        "  root.conti_att=rootconti_att\n",
        "\n",
        "\n",
        "  root.index=0\n",
        "  nodes=[]\n",
        "  temp_nodes=[]\n",
        "  nodes.append(root)\n",
        "  temp_nodes.append(root)\n",
        "  while len(temp_nodes)>0:\n",
        "    curr=temp_nodes.pop()\n",
        "    if curr.depth == maxdepth:\n",
        "      for i in curr.data:\n",
        "        s= all_classes[num_class][i] +s\n",
        "      if 2*s>len(curr.data):\n",
        "        nodes[curr.index].label=1\n",
        "      else:\n",
        "        nodes[curr.index].label=0\n",
        "    else:\n",
        "\n",
        "      if len(curr.data)==0:\n",
        "        nodes[curr.index].label=nodes[curr.parent].label\n",
        "      else:\n",
        "        s=0\n",
        "        for i in curr.data:\n",
        "          s= all_classes[num_class][i] +s\n",
        "\n",
        "        if s==len(curr.data) or s==0:\n",
        "          nodes[curr.index].label=s\n",
        "        else:\n",
        "          typ,ind=best_attr(curr.data,curr.conti_att,curr.disc_att,num_class)\n",
        "\n",
        "          if typ==0:\n",
        "            for i in curr.data:\n",
        "              s= all_classes[num_class][i] +s\n",
        "            if 2*s>len(curr.data):\n",
        "              nodes[curr.index].label=1\n",
        "            else:\n",
        "              nodes[curr.index].label=0            \n",
        "\n",
        "          if typ==\"conti\":\n",
        "\n",
        "            nodes[curr.index].br_point=ind[1]\n",
        "            nodes[curr.index].attr=[\"conti\",ind]\n",
        "\n",
        "            right=[]\n",
        "            left=[]\n",
        "            for i in curr.data:\n",
        "              if float(continuous_data.iloc[i,ind[0]])<float(ind[1]):\n",
        "                left.append(i)\n",
        "              else:\n",
        "                right.append(i)\n",
        "            \n",
        "            rnode=Node(right,num_class)\n",
        "            curr.conti_att.remove(ind)\n",
        "            rnode.conti_att = curr.conti_att\n",
        "            rnode.disc_att = curr.disc_att\n",
        "            rnode.depth=curr.depth+1\n",
        "            rnode.parent=curr.index\n",
        "\n",
        "            lnode=Node(left,num_class)\n",
        "            lnode.conti_att = curr.conti_att\n",
        "            lnode.disc_att = curr.disc_att\n",
        "            lnode.depth=curr.depth+1\n",
        "            lnode.parent=curr.index\n",
        "            \n",
        "            nodes.append(rnode)\n",
        "            nodes.append(lnode)\n",
        "            nodes[curr.index].right=len(nodes)-2\n",
        "            nodes[curr.index].left=len(nodes)-1\n",
        "            nodes[len(nodes)-2].index=len(nodes)-2\n",
        "            nodes[len(nodes)-1].index=len(nodes)-1 \n",
        "            \n",
        "            temp_nodes.append(nodes[len(nodes)-2])\n",
        "            temp_nodes.append(nodes[len(nodes)-1])  \n",
        "      \n",
        "          if typ==\"disc\":\n",
        "            nodes[curr.index].br_point=0.5\n",
        "            nodes[curr.index].attr=[\"disc\",ind]\n",
        "\n",
        "            right=[]\n",
        "            left=[]\n",
        "            for i in curr.data:\n",
        "              if disc_data.iloc[i,ind]<0.5:\n",
        "                left.append(i)\n",
        "              else:\n",
        "                right.append(i)\n",
        "            \n",
        "            rnode=Node(right,num_class)\n",
        "            curr.disc_att.remove(ind)\n",
        "            rnode.disc_att = curr.disc_att\n",
        "            rnode.conti_att = curr.conti_att\n",
        "            rnode.depth=curr.depth+1\n",
        "\n",
        "            lnode=Node(left,num_class)\n",
        "            lnode.disc_att = curr.disc_att\n",
        "            lnode.conti_att = curr.conti_att\n",
        "            lnode.depth=curr.depth+1\n",
        "\n",
        "            nodes.append(rnode)\n",
        "            nodes.append(lnode)\n",
        "            nodes[curr.index].right=len(nodes)-2\n",
        "            nodes[curr.index].left=len(nodes)-1\n",
        "            nodes[len(nodes)-2].index=len(nodes)-2\n",
        "            nodes[len(nodes)-1].index=len(nodes)-1 \n",
        "            \n",
        "            temp_nodes.append(nodes[len(nodes)-2])\n",
        "            temp_nodes.append(nodes[len(nodes)-1])\n",
        "\n",
        "  return nodes\n"
      ],
      "execution_count": null,
      "outputs": []
    },
    {
      "cell_type": "markdown",
      "metadata": {
        "id": "BOciSdRc8-uJ",
        "colab_type": "text"
      },
      "source": [
        "using the tree"
      ]
    },
    {
      "cell_type": "code",
      "metadata": {
        "id": "BbHOn5xZvasH",
        "colab_type": "code",
        "colab": {}
      },
      "source": [
        "def test_func(all_trees,test):\n",
        "  TM_TNM_FM_FNM=[]\n",
        "  conf_mat={}\n",
        "  for c in classes:\n",
        "    conf_mat[c]=[0,0,0,0]\n",
        "  for i in test:\n",
        "    TM_TNM_FM_FNM.append([0,0,0,0])\n",
        "    for c in classes:\n",
        "      path=all_trees[c][0]\n",
        "      while path.label==None:\n",
        "\n",
        "        if path.attr[0]==\"conti\":\n",
        "          if float(continuous_data.iloc[i,path.attr[1][0]]) > float(path.attr[1][1]):\n",
        "            path=all_trees[c][path.right]\n",
        "          else:\n",
        "            path=all_trees[c][path.left]\n",
        "        \n",
        "        else:\n",
        "          if float(disc_data.iloc[i,path.attr[1]]) > 0.5:\n",
        "            path=all_trees[c][path.right]\n",
        "          else:\n",
        "            path=all_trees[c][path.left]\n",
        "      \n",
        "      if path.label==0:\n",
        "        if fdata.iloc[i,-1]!=c:\n",
        "          #print(i,\"true not mine\")\n",
        "          conf_mat[c][1] = conf_mat[c][1]+1\n",
        "          TM_TNM_FM_FNM[len(TM_TNM_FM_FNM)-1][1] = TM_TNM_FM_FNM[len(TM_TNM_FM_FNM)-1][1] +1\n",
        "        else:\n",
        "          #print(i,\"false not mine\")\n",
        "          conf_mat[c][3] = conf_mat[c][3]+1\n",
        "          TM_TNM_FM_FNM[len(TM_TNM_FM_FNM)-1][3] = TM_TNM_FM_FNM[len(TM_TNM_FM_FNM)-1][3] +1\n",
        "      else:\n",
        "        if fdata.iloc[i,-1]==c:\n",
        "          #print(i,\"true  mine\")\n",
        "          conf_mat[c][0] = conf_mat[c][0]+1\n",
        "          TM_TNM_FM_FNM[len(TM_TNM_FM_FNM)-1][0] = TM_TNM_FM_FNM[len(TM_TNM_FM_FNM)-1][0] +1\n",
        "        else:\n",
        "          #print(i,\"false mine\")\n",
        "          conf_mat[c][2] = conf_mat[c][2]+1\n",
        "          TM_TNM_FM_FNM[len(TM_TNM_FM_FNM)-1][2] = TM_TNM_FM_FNM[len(TM_TNM_FM_FNM)-1][2] +1\n",
        "  return TM_TNM_FM_FNM,conf_mat\n"
      ],
      "execution_count": null,
      "outputs": []
    },
    {
      "cell_type": "code",
      "metadata": {
        "id": "vTJ1jIs2gf2R",
        "colab_type": "code",
        "colab": {
          "base_uri": "https://localhost:8080/",
          "height": 390
        },
        "outputId": "d253b860-541e-4036-e1dd-462f18088cbe"
      },
      "source": [
        "all_trees={}\n",
        "train_data=list(range(0,50))\n",
        "disc_attr=list(range(0,disc_data.shape[1]))\n",
        "test=list(range(51,fdata.shape[0]))\n",
        "for num_class in range(len(classes)):\n",
        "  conti_attr=list(enumerate(break_points[num_class]))\n",
        "  all_trees[classes[num_class]] = decision_tree(train_data , disc_attr , conti_attr , num_class,6)\n",
        "\n",
        "\n",
        "out,conf_mat=test_func(all_trees,test)\n",
        "right=0\n",
        "for r in out:\n",
        "  if r[0]==1:\n",
        "    right = right + (1/(1+r[2]))\n",
        "\n",
        "\n",
        "print(\"percision of single tree: \",right/len(test))\n",
        "print(\" \")\n",
        "print(\"confision matrix for every data: \")\n",
        "print(\"True_Mine, True_Not_Mine, False_Mine, False_Not_Mine\")\n",
        "out"
      ],
      "execution_count": null,
      "outputs": [
        {
          "output_type": "stream",
          "text": [
            "percision of single tree:  0.7254901960784315\n",
            " \n",
            "confision matrix for every data: \n",
            "True_Mine, True_Not_Mine, False_Mine, False_Not_Mine\n"
          ],
          "name": "stdout"
        },
        {
          "output_type": "execute_result",
          "data": {
            "text/plain": [
              "[[1, 10, 0, 0],\n",
              " [1, 10, 0, 0],\n",
              " [0, 10, 0, 1],\n",
              " [1, 10, 0, 0],\n",
              " [1, 10, 0, 0],\n",
              " [1, 9, 1, 0],\n",
              " [1, 9, 1, 0],\n",
              " [1, 10, 0, 0],\n",
              " [1, 10, 0, 0],\n",
              " [1, 10, 0, 0],\n",
              " [0, 10, 0, 1],\n",
              " [1, 10, 0, 0],\n",
              " [1, 10, 0, 0],\n",
              " [0, 9, 1, 1],\n",
              " [1, 8, 2, 0],\n",
              " [1, 10, 0, 0],\n",
              " [1, 10, 0, 0]]"
            ]
          },
          "metadata": {
            "tags": []
          },
          "execution_count": 36
        }
      ]
    },
    {
      "cell_type": "code",
      "metadata": {
        "id": "UH4lbD7atp6I",
        "colab_type": "code",
        "colab": {
          "base_uri": "https://localhost:8080/",
          "height": 248
        },
        "outputId": "d6d7c9e4-78b9-45e3-8674-a177a1c396d4"
      },
      "source": [
        "print(\"confision matrix for every tree: \")\n",
        "print(\"True_Mine, True_Not_Mine, False_Mine, False_Not_Mine\")\n",
        "conf_mat"
      ],
      "execution_count": null,
      "outputs": [
        {
          "output_type": "stream",
          "text": [
            "confision matrix for every tree: \n",
            "True_Mine, True_Not_Mine, False_Mine, False_Not_Mine\n"
          ],
          "name": "stdout"
        },
        {
          "output_type": "execute_result",
          "data": {
            "text/plain": [
              "{1: [5, 12, 0, 0],\n",
              " 2: [2, 14, 1, 0],\n",
              " 3: [1, 16, 0, 0],\n",
              " 4: [0, 16, 0, 1],\n",
              " 5: [1, 16, 0, 0],\n",
              " 6: [0, 15, 2, 0],\n",
              " 8: [0, 16, 0, 1],\n",
              " 9: [4, 13, 0, 0],\n",
              " 10: [0, 16, 0, 1],\n",
              " 14: [0, 15, 2, 0],\n",
              " 16: [1, 16, 0, 0]}"
            ]
          },
          "metadata": {
            "tags": []
          },
          "execution_count": 37
        }
      ]
    },
    {
      "cell_type": "code",
      "metadata": {
        "id": "rvp1Nco_okj4",
        "colab_type": "code",
        "colab": {}
      },
      "source": [
        "\"\"\"\n",
        "for att in all_trees[2]:\n",
        "  if att.attr!=None:\n",
        "    print(att.attr)\n",
        "\"\"\""
      ],
      "execution_count": null,
      "outputs": []
    },
    {
      "cell_type": "markdown",
      "metadata": {
        "id": "tw5029GMxsy9",
        "colab_type": "text"
      },
      "source": [
        "Bagging"
      ]
    },
    {
      "cell_type": "code",
      "metadata": {
        "id": "IQuhFXMSxv20",
        "colab_type": "code",
        "colab": {}
      },
      "source": [
        "bagging_data=[]\n",
        "for i in range(2):\n",
        "  bagging_data.append(list(range(25*i,25*(i+1))))\n",
        "\n",
        "train_data=list(range(0,50))\n",
        "disc_attr=list(range(0,disc_data.shape[1]))\n",
        "test=list(range(51,fdata.shape[0]))\n",
        "bag_out={}\n",
        "for x in test:\n",
        "  bag_out[x]=[0]*len(classes)\n",
        "\n",
        "for j in range(2):\n",
        "  for num_class in range(len(classes)):\n",
        "    conti_attr=list(enumerate(break_points[num_class]))\n",
        "    all_trees[classes[num_class]] = decision_tree(bagging_data[j] , disc_attr , conti_attr , num_class,6)\n",
        "  for i in test:\n",
        "    n=0\n",
        "    for c in classes:\n",
        "      path=all_trees[c][0]\n",
        "      while path.label==None:\n",
        "        if path.attr[0]==\"conti\":\n",
        "          if float(continuous_data.iloc[i,path.attr[1][0]]) > float(path.attr[1][1]):\n",
        "            path=all_trees[c][path.right]\n",
        "          else:\n",
        "            path=all_trees[c][path.left]\n",
        "        \n",
        "        else:\n",
        "          if float(disc_data.iloc[i,path.attr[1]]) > 0.5:\n",
        "            path=all_trees[c][path.right]\n",
        "          else:\n",
        "            path=all_trees[c][path.left]\n",
        "      \n",
        "      if path.label!=0:\n",
        "        path.label=1\n",
        "        \n",
        "      bag_out[i][n] = bag_out[i][n] + path.label\n",
        "      n = n+1"
      ],
      "execution_count": null,
      "outputs": []
    },
    {
      "cell_type": "code",
      "metadata": {
        "id": "ctOqqSJn-9Nw",
        "colab_type": "code",
        "colab": {
          "base_uri": "https://localhost:8080/",
          "height": 35
        },
        "outputId": "73d9abc3-0ca8-4c43-ab2f-fc5aca21226c"
      },
      "source": [
        "count_bag=0\n",
        "for x in bag_out:\n",
        "  c=bag_out[x].index(max(bag_out[x]))\n",
        "  if fdata.iloc[x,-1]==classes[c]:\n",
        "    count_bag = count_bag + 1 \n",
        "print(\"percision of bagging: %\",100*count_bag/len(test))"
      ],
      "execution_count": null,
      "outputs": [
        {
          "output_type": "stream",
          "text": [
            "percision of bagging: % 76.47058823529412\n"
          ],
          "name": "stdout"
        }
      ]
    },
    {
      "cell_type": "code",
      "metadata": {
        "id": "MszwgUXQ0gdh",
        "colab_type": "code",
        "colab": {}
      },
      "source": [
        "l = list(range(0, continuous_data.shape[1]-1))\n",
        "random.shuffle(l)\n",
        "ind=20*np.array(list(range(0,10)))\n",
        "con_atts=[]\n",
        "for i in range(len(ind)):\n",
        "  if i == len(ind)-1:\n",
        "    con_atts.append(l[ind[i]:])\n",
        "  else:\n",
        "    con_atts.append(l[ind[i]:ind[i+1]])\n",
        "\n",
        "l = list(range(0, disc_data.shape[1]-1))\n",
        "random.shuffle(l)\n",
        "ind=9*np.array(list(range(0,10)))\n",
        "disc_atts=[]\n",
        "for i in range(len(ind)):\n",
        "  if i == len(ind)-1:\n",
        "    disc_atts.append(l[ind[i]:])\n",
        "  else:\n",
        "    disc_atts.append(l[ind[i]:ind[i+1]])"
      ],
      "execution_count": null,
      "outputs": []
    },
    {
      "cell_type": "code",
      "metadata": {
        "id": "E9JgndZKt18L",
        "colab_type": "code",
        "colab": {}
      },
      "source": [
        "\n",
        "train_data=list(range(0,50))\n",
        "test=list(range(51,fdata.shape[0]))\n",
        "\n",
        "for j in range(10):\n",
        "  for num_class in range(len(classes)):\n",
        "    conti_attr=list(enumerate(break_points[num_class]))\n",
        "    conti_attr=pd.Series(conti_attr)\n",
        "    conti_attr=list(conti_attr[con_atts[j]])\n",
        "    disc_attr=disc_atts[j]\n",
        "    all_trees[classes[num_class]] = decision_tree(train_data , disc_attr , conti_attr , num_class,4)\n",
        "  for i in test:\n",
        "    n=0\n",
        "    for c in classes:\n",
        "      path=all_trees[c][0]\n",
        "      while path.label==None:\n",
        "        if path.attr[0]==\"conti\":\n",
        "          if float(continuous_data.iloc[i,path.attr[1][0]]) > float(path.attr[1][1]):\n",
        "            path=all_trees[c][path.right]\n",
        "          else:\n",
        "            path=all_trees[c][path.left]\n",
        "        \n",
        "        else:\n",
        "          if float(disc_data.iloc[i,path.attr[1]]) > 0.5:\n",
        "            path=all_trees[c][path.right]\n",
        "          else:\n",
        "            path=all_trees[c][path.left]\n",
        "      \n",
        "      if path.label!=0:\n",
        "        path.label=1\n",
        "        \n",
        "      bag_out[i][n] = bag_out[i][n] + path.label\n",
        "      n = n+1"
      ],
      "execution_count": null,
      "outputs": []
    },
    {
      "cell_type": "code",
      "metadata": {
        "id": "IG-1RyGz5w8i",
        "colab_type": "code",
        "colab": {
          "base_uri": "https://localhost:8080/",
          "height": 35
        },
        "outputId": "dd9ba894-e0ca-46a5-fc24-e7c596c4f3d9"
      },
      "source": [
        "count_bag=0\n",
        "for x in bag_out:\n",
        "  c=bag_out[x].index(max(bag_out[x]))\n",
        "  if fdata.iloc[x,-1]==classes[c]:\n",
        "    count_bag = count_bag + 1 \n",
        "print(\"percision of random_forest: %\",100*count_bag/len(test))"
      ],
      "execution_count": null,
      "outputs": [
        {
          "output_type": "stream",
          "text": [
            "percision of random_forest: % 70.58823529411765\n"
          ],
          "name": "stdout"
        }
      ]
    }
  ]
}
